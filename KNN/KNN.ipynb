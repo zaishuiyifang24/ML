{
 "cells": [
  {
   "cell_type": "markdown",
   "metadata": {},
   "source": [
    "## K-近邻算法笔记\n",
    "1.  KNN算法的原理 \n",
    "    - 有监督学习，训练集中的数据是有标签的\n",
    "    - 在没有标签的数据输入之后，提取样本集中最相似数据（最近邻）的分类标签\n",
    "    - 一般只选择前k个最相似的数据\n",
    "    - 最后，选择k个最相似数据出现次数最多的分类作为最终的分类结果\n",
    "2. 函数笔记\n",
    "    - **tile(A,reps)** A和reps都是array_like，A表示要重复的数据，reps的第一个数表示要重复的行数，第二个数表示要重复的列数。示例：diffMat = tile(inx,(dataSetSize,1)) - dataSet\n",
    "    - **sum()运算**。没有axis参数表示全部相加，axis＝0表示按列相加，axis＝1表示按照行的方向相加。示例:sqDiffMat = sqDiffMat.sum(axis=1)\n",
    "    - **argsort函数**。argsort函数返回的是数组值从小到大的索引值，即排序之后的每个位置的索引。示例：sortedDistIndicies = distances.argsort()\n",
    "    - **classCount.get(voteIlabel,0)**返回字典classCount中voteIlabel元素对应的值,若无，则进行初始化。  \n",
    "        若不存在voteIlabel，则字典classCount中生成voteIlabel元素，并使其对应的数字为0，即classCount = {voteIlabel：0}\n",
    "    此时classCount.get(voteIlabel,0)作用是检测并生成新元素，括号中的0只用作初始化，之后再无作用  \n",
    "        当字典中有voteIlabel元素时，classCount.get(voteIlabel,0)作用是返回该元素对应的值，即0\n",
    "    - **items函数**，将一个字典以列表的形式返回，因为字典是无序的，所以返回的列表也是无序的。示例:a.items()\n",
    "    - **operator.itemgetter函数**。operator模块提供的itemgetter函数用于获取对象的哪些维的数据，参数为一些序号。要注意，operator.itemgetter函数获取的不是值，而是定义了一个函数，通过该函数作用到对象上才能获取值。示例 b=operator.itemgetter(1) 。\n",
    "    - **sort(输入数据，key=排序的关键字，reverse是否逆序)**，第一个为数据的数据，key为要排序的关键字是哪一个，reverse表示是否需要逆序\n",
    "    - "
   ]
  },
  {
   "cell_type": "code",
   "execution_count": 4,
   "metadata": {},
   "outputs": [],
   "source": [
    "from numpy import *\n",
    "import operator   #导入运算符模块\n",
    "def createDataSet():\n",
    "    group = array([[1.0,1.1],[1.0,1.0],[0,0],[0,0.1]])\n",
    "    labels = ['A','A','B','B']\n",
    "    return group,labels"
   ]
  },
  {
   "cell_type": "code",
   "execution_count": 14,
   "metadata": {},
   "outputs": [],
   "source": [
    "group,labels = createDataSet()\n"
   ]
  },
  {
   "cell_type": "code",
   "execution_count": 23,
   "metadata": {},
   "outputs": [],
   "source": [
    "def classisy0(inX,dataSet,labels,k):\n",
    "    dataSetSize = dataSet.shape[0]\n",
    "    diffMat = tile(inX,(dataSetSize,1)) - dataSet\n",
    "    sqDiffMat  = diffMat** 2\n",
    "    sqDistances = sqDiffMat.sum(axis=1)\n",
    "    distances = sqDistances**0.5\n",
    "    sortedDistIndicies = distances.argsort()\n",
    "    classCount ={}\n",
    "    for i in range(k):\n",
    "        voteIlabel = labels[sortedDistIndicies[i]]\n",
    "        classCount[voteIlabel] = classCount.get(voteIlabel,0)+1\n",
    "    sortedClassCount = sorted(classCount.items(),key=operator.itemgetter(1),reverse = True)\n",
    "    return sortedClassCount[0][0]\n"
   ]
  },
  {
   "cell_type": "code",
   "execution_count": 26,
   "metadata": {},
   "outputs": [
    {
     "data": {
      "text/plain": [
       "'A'"
      ]
     },
     "execution_count": 26,
     "metadata": {},
     "output_type": "execute_result"
    }
   ],
   "source": [
    "classisy0([1,1],group,labels,3)"
   ]
  }
 ],
 "metadata": {
  "kernelspec": {
   "display_name": "Python 3",
   "language": "python",
   "name": "python3"
  },
  "language_info": {
   "codemirror_mode": {
    "name": "ipython",
    "version": 3
   },
   "file_extension": ".py",
   "mimetype": "text/x-python",
   "name": "python",
   "nbconvert_exporter": "python",
   "pygments_lexer": "ipython3",
   "version": "3.6.12"
  }
 },
 "nbformat": 4,
 "nbformat_minor": 4
}
