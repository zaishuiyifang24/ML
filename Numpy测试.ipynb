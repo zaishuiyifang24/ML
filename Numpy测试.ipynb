{
 "cells": [
  {
   "cell_type": "code",
   "execution_count": 4,
   "metadata": {},
   "outputs": [],
   "source": [
    "from numpy import *\n"
   ]
  },
  {
   "cell_type": "markdown",
   "metadata": {},
   "source": [
    "1. 生成一个4*4的随机数组"
   ]
  },
  {
   "cell_type": "code",
   "execution_count": null,
   "metadata": {},
   "outputs": [],
   "source": [
    "random.rand(4,4)"
   ]
  },
  {
   "cell_type": "markdown",
   "metadata": {},
   "source": [
    "2. 矩阵操作   \n",
    "    - mat() 函数可以将数组转换成矩阵\n",
    "    - 使用 .I操作符实现矩阵的求逆运算\n",
    "    - eye(4) 是生成4*4的矩阵"
   ]
  },
  {
   "cell_type": "code",
   "execution_count": 20,
   "metadata": {},
   "outputs": [
    {
     "name": "stdout",
     "output_type": "stream",
     "text": [
      "[[0.59833574 0.91290174 0.32741299 0.48390082]\n",
      " [0.0974957  0.55096241 0.9111838  0.78204525]\n",
      " [0.53028188 0.80836919 0.28647481 0.84440717]\n",
      " [0.10663058 0.33822578 0.95708493 0.4003509 ]]\n",
      "[[ 2.22044605e-16  0.00000000e+00 -4.44089210e-16  4.44089210e-16]\n",
      " [-1.11022302e-16 -2.22044605e-16  2.77555756e-16  0.00000000e+00]\n",
      " [-2.22044605e-16  0.00000000e+00 -2.22044605e-16  8.88178420e-16]\n",
      " [ 1.11022302e-16 -2.22044605e-16  5.55111512e-17  2.22044605e-16]]\n"
     ]
    },
    {
     "data": {
      "text/plain": [
       "matrix([[-2.13976933e+00, -6.04677753e+00,  4.37015448e+00,\n",
       "          5.18070516e+00],\n",
       "        [ 3.68865070e+00,  4.26181974e+00, -4.12420773e+00,\n",
       "         -4.08483252e+00],\n",
       "        [-1.74948642e-01, -8.32314659e-01, -3.30324207e-02,\n",
       "          1.90697292e+00],\n",
       "        [-2.12811111e+00, -2.25062018e-04,  2.39923552e+00,\n",
       "          1.00887233e-02]])"
      ]
     },
     "execution_count": 20,
     "metadata": {},
     "output_type": "execute_result"
    }
   ],
   "source": [
    "randMat = mat(random.rand(4,4))\n",
    "print (randMat)\n",
    "randMat.I\n",
    "randMat*randMat.I\n",
    "#取得误差值\n",
    "myEye = randMat*randMat.I\n",
    "print(myEye -eye(4))\n",
    "randMat.I"
   ]
  },
  {
   "cell_type": "code",
   "execution_count": null,
   "metadata": {},
   "outputs": [],
   "source": []
  }
 ],
 "metadata": {
  "kernelspec": {
   "display_name": "Python 3",
   "language": "python",
   "name": "python3"
  },
  "language_info": {
   "codemirror_mode": {
    "name": "ipython",
    "version": 3
   },
   "file_extension": ".py",
   "mimetype": "text/x-python",
   "name": "python",
   "nbconvert_exporter": "python",
   "pygments_lexer": "ipython3",
   "version": "3.6.12"
  }
 },
 "nbformat": 4,
 "nbformat_minor": 4
}
